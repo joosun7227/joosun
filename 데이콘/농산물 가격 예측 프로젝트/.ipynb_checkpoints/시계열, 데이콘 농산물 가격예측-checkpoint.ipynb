{
 "cells": [
  {
   "cell_type": "markdown",
   "id": "7dfd4bf7",
   "metadata": {},
   "source": [
    "# 1. 학습데이터, 테스트 데이터 불러오기\n",
    "\n",
    "## 데이콘 농산물 가격예측\n",
    "\n",
    "주소 : https://dacon.io/edu/21025/1"
   ]
  },
  {
   "cell_type": "code",
   "execution_count": 1,
   "id": "416d7c7e",
   "metadata": {},
   "outputs": [],
   "source": [
    "import pandas as pd\n",
    "import numpy as np"
   ]
  },
  {
   "cell_type": "code",
   "execution_count": null,
   "id": "c085933d",
   "metadata": {},
   "outputs": [],
   "source": []
  }
 ],
 "metadata": {
  "kernelspec": {
   "display_name": "Python 3 (ipykernel)",
   "language": "python",
   "name": "python3"
  },
  "language_info": {
   "codemirror_mode": {
    "name": "ipython",
    "version": 3
   },
   "file_extension": ".py",
   "mimetype": "text/x-python",
   "name": "python",
   "nbconvert_exporter": "python",
   "pygments_lexer": "ipython3",
   "version": "3.11.4"
  }
 },
 "nbformat": 4,
 "nbformat_minor": 5
}
