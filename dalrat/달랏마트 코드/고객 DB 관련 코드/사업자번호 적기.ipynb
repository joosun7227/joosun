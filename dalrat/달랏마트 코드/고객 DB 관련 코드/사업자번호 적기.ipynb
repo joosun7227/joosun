{
 "cells": [
  {
   "cell_type": "code",
   "execution_count": 1,
   "id": "bd91d531-df14-4dc6-b35f-dae478efd67a",
   "metadata": {},
   "outputs": [],
   "source": [
    "import pandas as pd"
   ]
  },
  {
   "cell_type": "code",
   "execution_count": 2,
   "id": "4f80e63a-daf9-4a45-b5f3-fa81de274d71",
   "metadata": {},
   "outputs": [
    {
     "ename": "SyntaxError",
     "evalue": "invalid syntax (216731055.py, line 1)",
     "output_type": "error",
     "traceback": [
      "\u001b[1;36m  Cell \u001b[1;32mIn[2], line 1\u001b[1;36m\u001b[0m\n\u001b[1;33m    customer_df=pd.road_csv\"export_customer_20240418_070904\"\u001b[0m\n\u001b[1;37m                           ^\u001b[0m\n\u001b[1;31mSyntaxError\u001b[0m\u001b[1;31m:\u001b[0m invalid syntax\n"
     ]
    }
   ],
   "source": [
    "customer_df=pd.road_csv\"export_customer_20240418_070904\""
   ]
  },
  {
   "cell_type": "code",
   "execution_count": null,
   "id": "d32e3451-c4b5-4d13-a84e-c4f062f2ebd6",
   "metadata": {},
   "outputs": [],
   "source": []
  }
 ],
 "metadata": {
  "kernelspec": {
   "display_name": "Python 3 (ipykernel)",
   "language": "python",
   "name": "python3"
  },
  "language_info": {
   "codemirror_mode": {
    "name": "ipython",
    "version": 3
   },
   "file_extension": ".py",
   "mimetype": "text/x-python",
   "name": "python",
   "nbconvert_exporter": "python",
   "pygments_lexer": "ipython3",
   "version": "3.11.7"
  }
 },
 "nbformat": 4,
 "nbformat_minor": 5
}
