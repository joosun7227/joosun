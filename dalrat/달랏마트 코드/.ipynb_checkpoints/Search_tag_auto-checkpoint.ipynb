{
 "cells": [
  {
   "cell_type": "code",
   "execution_count": 2,
   "id": "67dc7a2d",
   "metadata": {},
   "outputs": [],
   "source": [
    "import pandas as pd"
   ]
  },
  {
   "cell_type": "code",
   "execution_count": 3,
   "id": "d7851805",
   "metadata": {},
   "outputs": [
    {
     "name": "stderr",
     "output_type": "stream",
     "text": [
      "C:\\Users\\User\\AppData\\Local\\Temp\\ipykernel_22008\\3821828123.py:22: DtypeWarning: Columns (7,15,16,75) have mixed types. Specify dtype option on import or set low_memory=False.\n",
      "  data = pd.read_csv('export_catalog_product_20240312_161445.csv')\n"
     ]
    },
    {
     "data": {
      "text/plain": [
       "'export_catalog_product_20240312_161445.csv'"
      ]
     },
     "execution_count": 3,
     "metadata": {},
     "output_type": "execute_result"
    }
   ],
   "source": [
    "def update_search_tag(name, additional_attributes):\n",
    "    # 영어 제외한 태국어와 한국어 추출\n",
    "    cleaned_name = ''.join(filter(lambda x: '가' <= x <= '힣' or 'ก' <= x <= '๛', str(name)))\n",
    "    # 중복 제거\n",
    "    unique_chars = ''.join(sorted(set(cleaned_name), key=cleaned_name.index))\n",
    "    # 세그먼트 생성\n",
    "    segments = [unique_chars[i:i+n] for n in range(1, 5) for i in range(len(unique_chars) - n + 1)]\n",
    "    new_search_tag = ' '.join(segments + [unique_chars])\n",
    "    \n",
    "    # 기존 search_tag 교체\n",
    "    new_attributes = additional_attributes\n",
    "    if 'search_tag=' in additional_attributes:\n",
    "        pre, post = additional_attributes.split('search_tag=', 1)\n",
    "        post = ','.join(post.split(',')[1:]) # 첫 번째 comma 이후의 내용만 유지\n",
    "        new_attributes = pre + f'search_tag={new_search_tag},' + post\n",
    "    else:\n",
    "        new_attributes += f',search_tag={new_search_tag}'\n",
    "        \n",
    "    return new_attributes\n",
    "\n",
    "# 데이터 불러오기\n",
    "data = pd.read_csv('export_catalog_product_20240312_161445.csv')\n",
    "# 모든 상품에 대해 search_tag 업데이트\n",
    "data['additional_attributes'] = data.apply(lambda x: update_search_tag(x['name'], x['additional_attributes']), axis=1)\n",
    "\n",
    "# 수정된 파일 저장\n",
    "output_file_path = 'updated_export_catalog_product.csv'\n",
    "data.to_csv(output_file_path, index=False, encoding='utf-8')\n",
    "\n",
    "output_file_path"
   ]
  },
  {
   "cell_type": "code",
   "execution_count": null,
   "id": "8ff55310",
   "metadata": {},
   "outputs": [],
   "source": []
  }
 ],
 "metadata": {
  "kernelspec": {
   "display_name": "Python 3 (ipykernel)",
   "language": "python",
   "name": "python3"
  },
  "language_info": {
   "codemirror_mode": {
    "name": "ipython",
    "version": 3
   },
   "file_extension": ".py",
   "mimetype": "text/x-python",
   "name": "python",
   "nbconvert_exporter": "python",
   "pygments_lexer": "ipython3",
   "version": "3.11.4"
  }
 },
 "nbformat": 4,
 "nbformat_minor": 5
}
