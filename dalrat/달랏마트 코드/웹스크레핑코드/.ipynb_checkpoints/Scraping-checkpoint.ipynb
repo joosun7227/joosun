{
 "cells": [
  {
   "cell_type": "code",
   "execution_count": 1,
   "id": "4f3a2f3c-5092-4e58-9038-80db198c0492",
   "metadata": {},
   "outputs": [
    {
     "name": "stdout",
     "output_type": "stream",
     "text": [
      "Defaulting to user installation because normal site-packages is not writeable\n",
      "Requirement already satisfied: requests in c:\\programdata\\anaconda3\\lib\\site-packages (2.31.0)\n",
      "Requirement already satisfied: charset-normalizer<4,>=2 in c:\\programdata\\anaconda3\\lib\\site-packages (from requests) (2.0.4)\n",
      "Requirement already satisfied: idna<4,>=2.5 in c:\\programdata\\anaconda3\\lib\\site-packages (from requests) (3.4)\n",
      "Requirement already satisfied: urllib3<3,>=1.21.1 in c:\\programdata\\anaconda3\\lib\\site-packages (from requests) (2.0.7)\n",
      "Requirement already satisfied: certifi>=2017.4.17 in c:\\programdata\\anaconda3\\lib\\site-packages (from requests) (2024.2.2)\n",
      "Note: you may need to restart the kernel to use updated packages.\n"
     ]
    }
   ],
   "source": [
    "pip install requests\n",
    "pip install selenium\n",
    "pip install beautifulsoup4 openpyxl\n",
    "pip install webdriver-manager\n",
    "pip install openpyxl"
   ]
  },
  {
   "cell_type": "code",
   "execution_count": 15,
   "id": "d9b2b566-1658-4c9c-80fd-a493410d0956",
   "metadata": {},
   "outputs": [],
   "source": [
    "from selenium import webdriver\n",
    "from selenium.webdriver.common.keys import Keys\n",
    "from selenium.webdriver.common.by import By\n",
    "from selenium.webdriver.chrome.service import Service\n",
    "from selenium.webdriver.chrome.options import Options\n",
    "from webdriver_manager.chrome import ChromeDriverManager\n",
    "import requests\n",
    "from bs4 import BeautifulSoup\n",
    "from openpyxl import Workbook\n",
    "import re\n",
    "import time\n",
    "from selenium.common.exceptions import NoSuchElementException, TimeoutException"
   ]
  },
  {
   "cell_type": "code",
   "execution_count": 16,
   "id": "2717ad88-9079-4dc0-bf08-5cb6062df5b9",
   "metadata": {},
   "outputs": [],
   "source": [
    "import openpyxl"
   ]
  },
  {
   "cell_type": "code",
   "execution_count": 17,
   "id": "3930e74a-71ea-4f8e-9e5f-6ce4f0a76d9c",
   "metadata": {},
   "outputs": [],
   "source": [
    "from selenium.webdriver.support.ui import WebDriverWait\n",
    "from selenium.webdriver.support import expected_conditions as EC"
   ]
  },
  {
   "cell_type": "code",
   "execution_count": 46,
   "id": "88b3cff0-3c19-4ad8-a5cc-93d2b2ead12e",
   "metadata": {},
   "outputs": [],
   "source": [
    "# Chrome 옵션 설정\n",
    "options = Options()"
   ]
  },
  {
   "cell_type": "code",
   "execution_count": 59,
   "id": "9e54aaca-bdb0-401a-9dc5-76c7d01cba7c",
   "metadata": {},
   "outputs": [],
   "source": [
    "# WebDriver 초기화\n",
    "driver = webdriver.Chrome(service=Service(ChromeDriverManager().install()), options=options)"
   ]
  },
  {
   "cell_type": "code",
   "execution_count": 57,
   "id": "719ccd06-b6da-4923-aab4-718cfcff577b",
   "metadata": {},
   "outputs": [],
   "source": [
    "# 파일 경로 설정\n",
    "file_path = '제품 가격zz.xlsx'\n",
    "\n",
    "# 엑셀 파일 열기\n",
    "wb = openpyxl.load_workbook(file_path)\n",
    "ws = wb.active\n",
    "\n",
    "# 품목명 읽기\n",
    "product_names = [cell.value for cell in ws['B'][1:]] \n",
    "# 한글만 추출\n",
    "korean_product_names = [re.sub('[^가-힣]', '', name) for name in product_names if name is not None]"
   ]
  },
  {
   "cell_type": "code",
   "execution_count": 60,
   "id": "ae1a0bd6-e916-4eae-bba0-eaf72db0cb1f",
   "metadata": {},
   "outputs": [],
   "source": [
    "# 웹사이트 로그인 페이지 열기\n",
    "driver.get(\"https://www.dalrat.com/admin\")\n",
    "time.sleep(2)  # 실제 페이지 로드 시간에 따라 조정\n",
    "\n",
    "# 로그인 필드에 자격 증명 입력 (가정)\n",
    "username = driver.find_element(By.ID, \"username\")\n",
    "password = driver.find_element(By.ID, \"login\")\n",
    "username.send_keys(\"dalrat\")\n",
    "password.send_keys(\"dalrat456!!\")\n",
    "password.send_keys(Keys.RETURN)\n",
    "time.sleep(10)  # 실제 페이지 로드 시간에 따라 조정"
   ]
  },
  {
   "cell_type": "code",
   "execution_count": 61,
   "id": "f81f5e51-b94f-40cc-8dad-b7d6b4984c41",
   "metadata": {},
   "outputs": [],
   "source": [
    "# 상품페이지로 이동\n",
    "driver.get(\"https://www.dalrat.com/admin/catalog/product/index/key/bc2441971289517038d420d5cf06b27ed1badcdc4a735f065dedb084d7ce4321/\")\n",
    "time.sleep(2)\n",
    "\n",
    "# Chrome 옵션 설정\n",
    "options = Options()"
   ]
  },
  {
   "cell_type": "code",
   "execution_count": 63,
   "id": "6928253e-da3e-46b3-a256-52ab9347dc23",
   "metadata": {},
   "outputs": [
    {
     "ename": "KeyboardInterrupt",
     "evalue": "",
     "output_type": "error",
     "traceback": [
      "\u001b[1;31m---------------------------------------------------------------------------\u001b[0m",
      "\u001b[1;31mKeyboardInterrupt\u001b[0m                         Traceback (most recent call last)",
      "Cell \u001b[1;32mIn[63], line 51\u001b[0m\n\u001b[0;32m     48\u001b[0m     \u001b[38;5;28mprint\u001b[39m(\u001b[38;5;124mf\u001b[39m\u001b[38;5;124m\"\u001b[39m\u001b[38;5;124mError downloading image: \u001b[39m\u001b[38;5;132;01m{\u001b[39;00me\u001b[38;5;132;01m}\u001b[39;00m\u001b[38;5;124m\"\u001b[39m)\n\u001b[0;32m     49\u001b[0m     \u001b[38;5;28;01mcontinue\u001b[39;00m\n\u001b[1;32m---> 51\u001b[0m time\u001b[38;5;241m.\u001b[39msleep(\u001b[38;5;241m3\u001b[39m)\n",
      "\u001b[1;31mKeyboardInterrupt\u001b[0m: "
     ]
    }
   ],
   "source": [
    "for row, name in enumerate(korean_product_names, start=2):\n",
    "    try:\n",
    "        search_input = driver.find_element(By.ID, \"fulltext\")\n",
    "        search_input.clear()\n",
    "        search_input.send_keys(name)\n",
    "        search_input.send_keys(Keys.ENTER)\n",
    "    except Exception as e:\n",
    "        print(f\"Error finding or using search input: {e}\")\n",
    "        continue\n",
    "\n",
    "    try:\n",
    "        WebDriverWait(driver, 10).until(EC.presence_of_element_located((By.CSS_SELECTOR, \"img.admin__control-thumbnail\")))\n",
    "    except TimeoutException:\n",
    "        print(f\"Timeout waiting for thumbnail image of product: {name}\")\n",
    "        continue\n",
    "\n",
    "    try:\n",
    "        img_element = WebDriverWait(driver, 10).until(EC.visibility_of_element_located((By.CSS_SELECTOR, \"img.admin__control-thumbnail\")))\n",
    "        WebDriverWait(driver, 10).until(EC.element_to_be_clickable((By.CSS_SELECTOR, \"img.admin__control-thumbnail\")))\n",
    "        driver.execute_script(\"arguments[0].click();\", img_element)\n",
    "    except TimeoutException:\n",
    "        print(f\"Thumbnail not clickable or not visible for product: {name}\")\n",
    "        continue\n",
    "    except Exception as e:\n",
    "        print(f\"Error clicking thumbnail: {e}\")\n",
    "        continue\n",
    "\n",
    "    # 이미지 모달이 로드될 때까지 기다립니다.\n",
    "    try:\n",
    "        WebDriverWait(driver, 10).until(\n",
    "            lambda driver: driver.find_element(By.CSS_SELECTOR, \"img.thumbnail-preview-image\").get_attribute('src') != previous_img_src\n",
    "        )\n",
    "        modal_img_element = driver.find_element(By.CSS_SELECTOR, \"img.thumbnail-preview-image\")\n",
    "        img_src = modal_img_element.get_attribute('src')\n",
    "        previous_img_src = img_src  # 현재 src를 이전 src로 저장\n",
    "    except TimeoutException:\n",
    "        print(f\"Timeout waiting for new modal image to be visible for product: {name}\")\n",
    "        continue\n",
    "    except Exception as e:\n",
    "        print(f\"Error retrieving new modal image: {e}\")\n",
    "        continue\n",
    "\n",
    "    try:\n",
    "        response = requests.get(img_src)\n",
    "        if response.status_code == 200:\n",
    "            with open(f'image_{row}.png', 'wb') as file:\n",
    "                file.write(response.content)\n",
    "            ws['C' + str(row)].value = f'image_{row}.png'\n",
    "        else:\n",
    "            print(f\"Failed to download image with response code {response.status_code} for product: {name}\")\n",
    "    except Exception as e:\n",
    "        print(f\"Error downloading image: {e}\")\n",
    "        continue\n",
    "\n",
    "    time.sleep(3)"
   ]
  },
  {
   "cell_type": "code",
   "execution_count": 64,
   "id": "7f97e092-175f-4dff-aa79-56cb24764599",
   "metadata": {},
   "outputs": [],
   "source": [
    "wb.save('제품 가격zz.xlsx')\n"
   ]
  },
  {
   "cell_type": "code",
   "execution_count": 49,
   "id": "1de1ebf6-c8f6-4e6a-94ab-64604ffa7cb9",
   "metadata": {},
   "outputs": [],
   "source": [
    "driver.quit()"
   ]
  },
  {
   "cell_type": "code",
   "execution_count": null,
   "id": "d087a773-c874-4fdf-9240-68d03864a64e",
   "metadata": {},
   "outputs": [],
   "source": []
  }
 ],
 "metadata": {
  "kernelspec": {
   "display_name": "Python 3 (ipykernel)",
   "language": "python",
   "name": "python3"
  },
  "language_info": {
   "codemirror_mode": {
    "name": "ipython",
    "version": 3
   },
   "file_extension": ".py",
   "mimetype": "text/x-python",
   "name": "python",
   "nbconvert_exporter": "python",
   "pygments_lexer": "ipython3",
   "version": "3.11.7"
  }
 },
 "nbformat": 4,
 "nbformat_minor": 5
}
