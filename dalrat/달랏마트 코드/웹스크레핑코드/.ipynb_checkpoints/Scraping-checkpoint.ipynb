{
 "cells": [
  {
   "cell_type": "code",
   "execution_count": 1,
   "id": "4f3a2f3c-5092-4e58-9038-80db198c0492",
   "metadata": {},
   "outputs": [
    {
     "name": "stdout",
     "output_type": "stream",
     "text": [
      "Defaulting to user installation because normal site-packages is not writeable\n",
      "Requirement already satisfied: requests in c:\\programdata\\anaconda3\\lib\\site-packages (2.31.0)\n",
      "Requirement already satisfied: charset-normalizer<4,>=2 in c:\\programdata\\anaconda3\\lib\\site-packages (from requests) (2.0.4)\n",
      "Requirement already satisfied: idna<4,>=2.5 in c:\\programdata\\anaconda3\\lib\\site-packages (from requests) (3.4)\n",
      "Requirement already satisfied: urllib3<3,>=1.21.1 in c:\\programdata\\anaconda3\\lib\\site-packages (from requests) (2.0.7)\n",
      "Requirement already satisfied: certifi>=2017.4.17 in c:\\programdata\\anaconda3\\lib\\site-packages (from requests) (2024.2.2)\n",
      "Note: you may need to restart the kernel to use updated packages.\n"
     ]
    }
   ],
   "source": [
    "pip install requests\n",
    "pip install selenium\n",
    "pip install beautifulsoup4 openpyxl\n",
    "pip install webdriver-manager\n",
    "pip install openpyxl"
   ]
  },
  {
   "cell_type": "code",
   "execution_count": 70,
   "id": "d9b2b566-1658-4c9c-80fd-a493410d0956",
   "metadata": {},
   "outputs": [],
   "source": [
    "from selenium import webdriver\n",
    "from selenium.webdriver.common.keys import Keys\n",
    "from selenium.webdriver.common.by import By\n",
    "from selenium.webdriver.chrome.service import Service\n",
    "from selenium.webdriver.chrome.options import Options\n",
    "from webdriver_manager.chrome import ChromeDriverManager\n",
    "import requests\n",
    "from bs4 import BeautifulSoup\n",
    "from openpyxl import Workbook\n",
    "import re\n",
    "import time\n",
    "from selenium.common.exceptions import NoSuchElementException, TimeoutException"
   ]
  },
  {
   "cell_type": "code",
   "execution_count": 37,
   "id": "2717ad88-9079-4dc0-bf08-5cb6062df5b9",
   "metadata": {},
   "outputs": [],
   "source": [
    "import openpyxl"
   ]
  },
  {
   "cell_type": "code",
   "execution_count": 66,
   "id": "3930e74a-71ea-4f8e-9e5f-6ce4f0a76d9c",
   "metadata": {},
   "outputs": [],
   "source": [
    "from selenium.webdriver.support.ui import WebDriverWait\n",
    "from selenium.webdriver.support import expected_conditions as EC"
   ]
  },
  {
   "cell_type": "code",
   "execution_count": 73,
   "id": "88b3cff0-3c19-4ad8-a5cc-93d2b2ead12e",
   "metadata": {},
   "outputs": [],
   "source": [
    "# Chrome 옵션 설정\n",
    "options = Options()"
   ]
  },
  {
   "cell_type": "code",
   "execution_count": 74,
   "id": "9e54aaca-bdb0-401a-9dc5-76c7d01cba7c",
   "metadata": {},
   "outputs": [],
   "source": [
    "# WebDriver 초기화\n",
    "driver = webdriver.Chrome(service=Service(ChromeDriverManager().install()), options=options)"
   ]
  },
  {
   "cell_type": "code",
   "execution_count": 75,
   "id": "719ccd06-b6da-4923-aab4-718cfcff577b",
   "metadata": {},
   "outputs": [],
   "source": [
    "# 파일 경로 설정\n",
    "file_path = '제품 가격zz.xlsx'\n",
    "\n",
    "# 엑셀 파일 열기\n",
    "wb = openpyxl.load_workbook(file_path)\n",
    "ws = wb.active"
   ]
  },
  {
   "cell_type": "code",
   "execution_count": 76,
   "id": "ae1a0bd6-e916-4eae-bba0-eaf72db0cb1f",
   "metadata": {},
   "outputs": [],
   "source": [
    "# 웹사이트 로그인 페이지 열기\n",
    "driver.get(\"https://www.dalrat.com/admin\")\n",
    "time.sleep(5)  # 실제 페이지 로드 시간에 따라 조정"
   ]
  },
  {
   "cell_type": "code",
   "execution_count": 77,
   "id": "02ba1133-c92a-412b-91f0-8b5d5df7e674",
   "metadata": {},
   "outputs": [],
   "source": [
    "# 로그인 필드에 자격 증명 입력 (가정)\n",
    "username = driver.find_element(By.ID, \"username\")\n",
    "password = driver.find_element(By.ID, \"login\")\n",
    "username.send_keys(\"dalrat\")\n",
    "password.send_keys(\"dalrat456!!\")\n",
    "password.send_keys(Keys.RETURN)\n",
    "time.sleep(10)  # 실제 페이지 로드 시간에 따라 조정"
   ]
  },
  {
   "cell_type": "code",
   "execution_count": 78,
   "id": "329718ff-f853-4f89-9c4c-9010aaf4cc38",
   "metadata": {},
   "outputs": [],
   "source": [
    "driver.get(\"https://www.dalrat.com/admin/catalog/product/index/key/7320a92918c5026ca8aa126a87abfeff1a70ff79812c085eebb4c74174de9d85/\")\n",
    "time.sleep(5)"
   ]
  },
  {
   "cell_type": "code",
   "execution_count": 79,
   "id": "66781095-89f4-4ba5-95b8-df06e3ddd76c",
   "metadata": {},
   "outputs": [],
   "source": [
    "# 품목명 읽기\n",
    "product_names = [cell.value for cell in ws['B'][1:]] \n",
    "# 한글만 추출\n",
    "korean_product_names = [re.sub('[^가-힣]', '', name) for name in product_names if name is not None]"
   ]
  },
  {
   "cell_type": "code",
   "execution_count": 80,
   "id": "be28561f-2eb1-499d-a305-5d92e3daffc6",
   "metadata": {},
   "outputs": [],
   "source": [
    "# Chrome 옵션 설정\n",
    "options = Options()"
   ]
  },
  {
   "cell_type": "code",
   "execution_count": 81,
   "id": "5d9a4544-cf65-4fac-a84c-5593ca4aef17",
   "metadata": {},
   "outputs": [
    {
     "ename": "KeyboardInterrupt",
     "evalue": "",
     "output_type": "error",
     "traceback": [
      "\u001b[1;31m---------------------------------------------------------------------------\u001b[0m",
      "\u001b[1;31mKeyboardInterrupt\u001b[0m                         Traceback (most recent call last)",
      "Cell \u001b[1;32mIn[81], line 16\u001b[0m\n\u001b[0;32m     13\u001b[0m     \u001b[38;5;28mprint\u001b[39m(\u001b[38;5;124mf\u001b[39m\u001b[38;5;124m\"\u001b[39m\u001b[38;5;124m이미지를 찾을 수 없습니다: \u001b[39m\u001b[38;5;132;01m{\u001b[39;00mname\u001b[38;5;132;01m}\u001b[39;00m\u001b[38;5;124m\"\u001b[39m)\n\u001b[0;32m     14\u001b[0m     ws[\u001b[38;5;124m'\u001b[39m\u001b[38;5;124mA\u001b[39m\u001b[38;5;124m'\u001b[39m \u001b[38;5;241m+\u001b[39m \u001b[38;5;28mstr\u001b[39m(row)]\u001b[38;5;241m.\u001b[39mvalue \u001b[38;5;241m=\u001b[39m \u001b[38;5;124m\"\u001b[39m\u001b[38;5;124m이미지 없음\u001b[39m\u001b[38;5;124m\"\u001b[39m  \u001b[38;5;66;03m# 이미지가 없을 경우에는 '이미지 없음'으로 저장\u001b[39;00m\n\u001b[1;32m---> 16\u001b[0m time\u001b[38;5;241m.\u001b[39msleep(\u001b[38;5;241m3\u001b[39m)\n",
      "\u001b[1;31mKeyboardInterrupt\u001b[0m: "
     ]
    }
   ],
   "source": [
    "for row, name in enumerate(korean_product_names, start=2):  # 2번째 행부터 시작\n",
    "    search_input = driver.find_element(By.ID, \"fulltext\")  # 검색 필드 ID\n",
    "    search_input.clear()\n",
    "    search_input.send_keys(name)\n",
    "    search_input.send_keys(Keys.ENTER)\n",
    "\n",
    "    try:\n",
    "        WebDriverWait(driver, 10).until(EC.presence_of_element_located((By.CSS_SELECTOR, \"img.admin__control-thumbnail\")))  # 요소가 나타날 때까지 최대 10초 기다림\n",
    "        img_element = driver.find_element(By.CSS_SELECTOR, \"img.admin__control-thumbnail\")\n",
    "        img_src = img_element.get_attribute('src')\n",
    "        ws['A' + str(row)].value = img_src  # 엑셀의 'A열'에 이미지 링크 저장\n",
    "    except (NoSuchElementException, TimeoutException):\n",
    "        print(f\"이미지를 찾을 수 없습니다: {name}\")\n",
    "        ws['A' + str(row)].value = \"이미지 없음\"  # 이미지가 없을 경우에는 '이미지 없음'으로 저장\n",
    "\n",
    "    time.sleep(3)  # 다음 검색 전에 잠시 대기"
   ]
  },
  {
   "cell_type": "code",
   "execution_count": 72,
   "id": "7f97e092-175f-4dff-aa79-56cb24764599",
   "metadata": {},
   "outputs": [],
   "source": [
    "wb.save('제품 가격zz.xlsx')\n",
    "driver.quit()"
   ]
  },
  {
   "cell_type": "code",
   "execution_count": 49,
   "id": "1de1ebf6-c8f6-4e6a-94ab-64604ffa7cb9",
   "metadata": {},
   "outputs": [],
   "source": []
  },
  {
   "cell_type": "code",
   "execution_count": null,
   "id": "d087a773-c874-4fdf-9240-68d03864a64e",
   "metadata": {},
   "outputs": [],
   "source": []
  }
 ],
 "metadata": {
  "kernelspec": {
   "display_name": "Python 3 (ipykernel)",
   "language": "python",
   "name": "python3"
  },
  "language_info": {
   "codemirror_mode": {
    "name": "ipython",
    "version": 3
   },
   "file_extension": ".py",
   "mimetype": "text/x-python",
   "name": "python",
   "nbconvert_exporter": "python",
   "pygments_lexer": "ipython3",
   "version": "3.11.7"
  }
 },
 "nbformat": 4,
 "nbformat_minor": 5
}
