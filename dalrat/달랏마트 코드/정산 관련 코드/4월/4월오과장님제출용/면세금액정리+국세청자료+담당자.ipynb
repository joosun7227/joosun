{
 "cells": [
  {
   "cell_type": "code",
   "execution_count": 2,
   "id": "d1c15bbb",
   "metadata": {},
   "outputs": [],
   "source": [
    "import pandas as pd"
   ]
  },
  {
   "cell_type": "markdown",
   "id": "a142f03a",
   "metadata": {},
   "source": [
    "# 국세청 승인자료 면세파트 만들기"
   ]
  },
  {
   "cell_type": "code",
   "execution_count": 27,
   "id": "15a60ef9",
   "metadata": {},
   "outputs": [],
   "source": [
    "data = pd.read_excel('국세청승인자료(달랏사이트매출).xlsx')"
   ]
  },
  {
   "cell_type": "code",
   "execution_count": 28,
   "id": "c4a27dc4",
   "metadata": {},
   "outputs": [],
   "source": [
    "# 조건에 따라 실공급가액 및 면세 컬럼 계산 및 추가\n",
    "data['실공급가액'] = data.apply(lambda x: x['부가세']*10 if x['부가세'] != 0 else 0, axis=1)\n",
    "data['봉사료'] = data.apply(lambda x: x['공급가액'] - x['실공급가액'] if x['부가세'] != 0 else x['공급가액'], axis=1)"
   ]
  },
  {
   "cell_type": "code",
   "execution_count": 29,
   "id": "11150c9a",
   "metadata": {},
   "outputs": [],
   "source": [
    "# 면세가 음수인 경우, 해당 금액을 실공급가액에 더하고 면세를 0으로 업데이트\n",
    "data['실공급가액'] = data.apply(lambda x: x['실공급가액'] + x['봉사료'] if x['봉사료'] < 0 else x['실공급가액'], axis=1)\n",
    "data['봉사료'] = data.apply(lambda x: 0 if x['봉사료'] < 0 else x['봉사료'], axis=1)"
   ]
  },
  {
   "cell_type": "code",
   "execution_count": 30,
   "id": "6611f6f5",
   "metadata": {},
   "outputs": [],
   "source": [
    "data['실공급가액'] += data['봉사료'] % 10\n",
    "data['봉사료'] -= data['봉사료'] % 10\n",
    "data['공급가액'] = data['실공급가액']\n",
    "data.drop('실공급가액', axis=1, inplace=True)\n",
    "data.to_excel('국세청승인자료(달랏사이트매출)_면세금액정리.xlsx', index=False)"
   ]
  },
  {
   "cell_type": "code",
   "execution_count": 31,
   "id": "9f753d98",
   "metadata": {},
   "outputs": [],
   "source": [
    "# 파일 경로\n",
    "file_path_tax_approval = '국세청승인자료(달랏사이트매출)_면세금액정리.xlsx'\n",
    "file_path_credit_card = '신용·체크카드_결제내역_2024.04.01-2024.05.01.xlsx'\n",
    "file_path_cash_receipt = '현금영수증_2024.04.01-2024.05.01.xlsx'\n",
    "\n",
    "# 각 파일 읽기\n",
    "df_tax_approval = pd.read_excel(file_path_tax_approval)\n",
    "df_credit_card = pd.read_excel(file_path_credit_card)\n",
    "df_cash_receipt = pd.read_excel(file_path_cash_receipt)"
   ]
  },
  {
   "cell_type": "code",
   "execution_count": 32,
   "id": "cca50d1c",
   "metadata": {},
   "outputs": [
    {
     "name": "stdout",
     "output_type": "stream",
     "text": [
      "<class 'pandas.core.frame.DataFrame'>\n",
      "RangeIndex: 103 entries, 0 to 102\n",
      "Data columns (total 17 columns):\n",
      " #   Column      Non-Null Count  Dtype  \n",
      "---  ------      --------------  -----  \n",
      " 0   상점아이디(MID)  102 non-null    object \n",
      " 1   결제일시        102 non-null    object \n",
      " 2   취소일시        11 non-null     object \n",
      " 3   주문번호        102 non-null    object \n",
      " 4   결제상태        102 non-null    object \n",
      " 5   구매자명        102 non-null    object \n",
      " 6   결제액         97 non-null     float64\n",
      " 7   취소액         102 non-null    float64\n",
      " 8   부가세         102 non-null    float64\n",
      " 9   공급가액        102 non-null    float64\n",
      " 10  면세가액        102 non-null    float64\n",
      " 11  결제수단        102 non-null    object \n",
      " 12  결제기관        102 non-null    object \n",
      " 13  구매상품        102 non-null    object \n",
      " 14  안내메시지       102 non-null    object \n",
      " 15  승인번호        102 non-null    float64\n",
      " 16  취소자         11 non-null     object \n",
      "dtypes: float64(6), object(11)\n",
      "memory usage: 13.8+ KB\n",
      "<class 'pandas.core.frame.DataFrame'>\n",
      "RangeIndex: 1420 entries, 0 to 1419\n",
      "Data columns (total 11 columns):\n",
      " #   Column    Non-Null Count  Dtype  \n",
      "---  ------    --------------  -----  \n",
      " 0   발행구분      1419 non-null   object \n",
      " 1   매출일시      1419 non-null   object \n",
      " 2   공급가액      1419 non-null   float64\n",
      " 3   부가세       1419 non-null   float64\n",
      " 4   봉사료       1419 non-null   float64\n",
      " 5   총금액       1420 non-null   int64  \n",
      " 6   승인번호      1419 non-null   float64\n",
      " 7   신분확인뒷4자리  1419 non-null   float64\n",
      " 8   거래구분      1419 non-null   object \n",
      " 9   용도구분      1419 non-null   object \n",
      " 10  비고        1419 non-null   object \n",
      "dtypes: float64(5), int64(1), object(5)\n",
      "memory usage: 122.2+ KB\n"
     ]
    }
   ],
   "source": [
    "df_credit_card.info()\n",
    "df_tax_approval.info()"
   ]
  },
  {
   "cell_type": "code",
   "execution_count": 33,
   "id": "74699bc9",
   "metadata": {},
   "outputs": [
    {
     "name": "stdout",
     "output_type": "stream",
     "text": [
      "<class 'pandas.core.frame.DataFrame'>\n",
      "RangeIndex: 1523 entries, 0 to 1522\n",
      "Data columns (total 12 columns):\n",
      " #   Column    Non-Null Count  Dtype  \n",
      "---  ------    --------------  -----  \n",
      " 0   발행구분      1419 non-null   object \n",
      " 1   매출일시      1521 non-null   object \n",
      " 2   공급가액      1521 non-null   float64\n",
      " 3   부가세       1521 non-null   float64\n",
      " 4   봉사료       1521 non-null   float64\n",
      " 5   총금액       1517 non-null   float64\n",
      " 6   승인번호      1521 non-null   float64\n",
      " 7   신분확인뒷4자리  1419 non-null   float64\n",
      " 8   거래구분      1521 non-null   object \n",
      " 9   용도구분      1419 non-null   object \n",
      " 10  비고        1419 non-null   object \n",
      " 11  주문번호      102 non-null    object \n",
      "dtypes: float64(6), object(6)\n",
      "memory usage: 142.9+ KB\n"
     ]
    }
   ],
   "source": [
    "# 국세청 데이터와 신용카드 결제 내역 데이터를 합치는 과정\n",
    "# df_tax_approval은 국세청 데이터, merged_data는 신용카드 결제 내역 데이터를 나타냅니다.\n",
    "\n",
    "# 새로운 데이터프레임 생성을 위해 필요한 컬럼만 df_2에서 선택\n",
    "merged_data = df_credit_card[['결제일시', '공급가액', '부가세','면세가액', '결제액', '승인번호', '결제수단','주문번호']].copy()\n",
    "\n",
    "# 컬럼 이름을 df_1과 일치시키기 위해 변경\n",
    "merged_data.rename(columns={\n",
    "    '결제일시': '매출일시',\n",
    "    '결제액': '총금액',\n",
    "    '결제수단': '거래구분',\n",
    "    '면세가액': '봉사료'\n",
    "}, inplace=True)\n",
    "\n",
    "# 봉사료, 신분확인 뒷4자리, 용도구분, 비고 컬럼 추가 (값은 비워둠)\n",
    "merged_data['신분확인뒷4자리'] = None  # 신분확인 뒷4자리는 비워둡니다.\n",
    "merged_data['용도구분'] = None  # 용도구분은 비워둡니다.\n",
    "merged_data['비고'] = None  # 비고는 비워둡니다.\n",
    "\n",
    "# df_1 (국세청 데이터)과 합치기\n",
    "final_df = pd.concat([df_tax_approval, merged_data], ignore_index=True)\n",
    "\n",
    "# 최종 데이터프레임 확인\n",
    "final_df.info()"
   ]
  },
  {
   "cell_type": "code",
   "execution_count": 34,
   "id": "36693853",
   "metadata": {},
   "outputs": [],
   "source": [
    "# 승인번호를 기준으로 신용체크카드 결제내역과 현금영수증 내역의 주문번호를 추출\n",
    "cash_receipt_order_numbers = df_cash_receipt[['승인번호', '주문번호']].drop_duplicates(subset='승인번호')\n",
    "\n",
    "# 국세청 승인자료에 주문번호 컬럼 추가하기\n",
    "Ordernumber_merged = final_df.merge(cash_receipt_order_numbers, on='승인번호', how='left')"
   ]
  },
  {
   "cell_type": "code",
   "execution_count": 35,
   "id": "7bab5757",
   "metadata": {},
   "outputs": [],
   "source": [
    "# '주문번호_x' 컬럼의 NaN 값을 '주문번호_y' 값으로 채우고, '주문번호'라는 새 컬럼에 저장\n",
    "Ordernumber_merged['주문번호'] = Ordernumber_merged['주문번호_x'].fillna(Ordernumber_merged['주문번호_y'])\n",
    "\n",
    "# 이제 '주문번호_x'와 '주문번호_y' 컬럼은 필요 없으므로 삭제\n",
    "Ordernumber_merged.drop(columns=['주문번호_x', '주문번호_y'], inplace=True)"
   ]
  },
  {
   "cell_type": "code",
   "execution_count": 36,
   "id": "1d8418f7",
   "metadata": {},
   "outputs": [
    {
     "name": "stdout",
     "output_type": "stream",
     "text": [
      "<class 'pandas.core.frame.DataFrame'>\n",
      "Int64Index: 1523 entries, 0 to 1522\n",
      "Data columns (total 12 columns):\n",
      " #   Column    Non-Null Count  Dtype  \n",
      "---  ------    --------------  -----  \n",
      " 0   발행구분      1419 non-null   object \n",
      " 1   매출일시      1521 non-null   object \n",
      " 2   공급가액      1521 non-null   float64\n",
      " 3   부가세       1521 non-null   float64\n",
      " 4   봉사료       1521 non-null   float64\n",
      " 5   총금액       1517 non-null   float64\n",
      " 6   승인번호      1521 non-null   float64\n",
      " 7   신분확인뒷4자리  1419 non-null   float64\n",
      " 8   거래구분      1521 non-null   object \n",
      " 9   용도구분      1419 non-null   object \n",
      " 10  비고        1419 non-null   object \n",
      " 11  주문번호      1521 non-null   object \n",
      "dtypes: float64(6), object(6)\n",
      "memory usage: 154.7+ KB\n"
     ]
    }
   ],
   "source": [
    "Ordernumber_merged.info()"
   ]
  },
  {
   "cell_type": "code",
   "execution_count": 37,
   "id": "f4db8664",
   "metadata": {},
   "outputs": [],
   "source": [
    "# 주문번호에서 '-'와 '-' 뒤의 값을 삭제\n",
    "Ordernumber_merged['주문번호'] = Ordernumber_merged['주문번호'].str.split('-').str[0]"
   ]
  },
  {
   "cell_type": "code",
   "execution_count": 38,
   "id": "a45b1e26",
   "metadata": {},
   "outputs": [
    {
     "data": {
      "text/plain": [
       "'국세청승인자료_주문번호추가.xlsx'"
      ]
     },
     "execution_count": 38,
     "metadata": {},
     "output_type": "execute_result"
    }
   ],
   "source": [
    "# 결과를 새 파일로 저장\n",
    "output_file_path = '국세청승인자료_주문번호추가.xlsx'\n",
    "Ordernumber_merged.to_excel(output_file_path, index=False)\n",
    "\n",
    "# 저장된 파일 경로 반환\n",
    "output_file_path"
   ]
  },
  {
   "cell_type": "code",
   "execution_count": 39,
   "id": "c14af4c4",
   "metadata": {},
   "outputs": [
    {
     "data": {
      "text/html": [
       "<div>\n",
       "<style scoped>\n",
       "    .dataframe tbody tr th:only-of-type {\n",
       "        vertical-align: middle;\n",
       "    }\n",
       "\n",
       "    .dataframe tbody tr th {\n",
       "        vertical-align: top;\n",
       "    }\n",
       "\n",
       "    .dataframe thead th {\n",
       "        text-align: right;\n",
       "    }\n",
       "</style>\n",
       "<table border=\"1\" class=\"dataframe\">\n",
       "  <thead>\n",
       "    <tr style=\"text-align: right;\">\n",
       "      <th></th>\n",
       "      <th>발행구분</th>\n",
       "      <th>매출일시</th>\n",
       "      <th>공급가액</th>\n",
       "      <th>부가세</th>\n",
       "      <th>봉사료</th>\n",
       "      <th>총금액</th>\n",
       "      <th>승인번호</th>\n",
       "      <th>신분확인뒷4자리</th>\n",
       "      <th>거래구분</th>\n",
       "      <th>용도구분</th>\n",
       "      <th>비고</th>\n",
       "      <th>주문번호</th>\n",
       "    </tr>\n",
       "  </thead>\n",
       "  <tbody>\n",
       "    <tr>\n",
       "      <th>0</th>\n",
       "      <td>사업자</td>\n",
       "      <td>2024-04-30 23:25:41</td>\n",
       "      <td>37555.0</td>\n",
       "      <td>3755.0</td>\n",
       "      <td>6390.0</td>\n",
       "      <td>47700.0</td>\n",
       "      <td>161032234.0</td>\n",
       "      <td>1234.0</td>\n",
       "      <td>승인거래</td>\n",
       "      <td>소비자소득공제용</td>\n",
       "      <td>일반거래</td>\n",
       "      <td>000002933</td>\n",
       "    </tr>\n",
       "    <tr>\n",
       "      <th>1</th>\n",
       "      <td>사업자</td>\n",
       "      <td>2024-04-30 20:31:59</td>\n",
       "      <td>146091.0</td>\n",
       "      <td>14609.0</td>\n",
       "      <td>75800.0</td>\n",
       "      <td>236500.0</td>\n",
       "      <td>160873755.0</td>\n",
       "      <td>1234.0</td>\n",
       "      <td>승인거래</td>\n",
       "      <td>소비자소득공제용</td>\n",
       "      <td>일반거래</td>\n",
       "      <td>000002932</td>\n",
       "    </tr>\n",
       "    <tr>\n",
       "      <th>2</th>\n",
       "      <td>사업자</td>\n",
       "      <td>2024-04-30 20:31:10</td>\n",
       "      <td>31182.0</td>\n",
       "      <td>3118.0</td>\n",
       "      <td>19600.0</td>\n",
       "      <td>53900.0</td>\n",
       "      <td>160874109.0</td>\n",
       "      <td>1234.0</td>\n",
       "      <td>승인거래</td>\n",
       "      <td>소비자소득공제용</td>\n",
       "      <td>일반거래</td>\n",
       "      <td>000002931</td>\n",
       "    </tr>\n",
       "    <tr>\n",
       "      <th>3</th>\n",
       "      <td>사업자</td>\n",
       "      <td>2024-04-30 18:33:44</td>\n",
       "      <td>19273.0</td>\n",
       "      <td>1927.0</td>\n",
       "      <td>16800.0</td>\n",
       "      <td>38000.0</td>\n",
       "      <td>160756462.0</td>\n",
       "      <td>1234.0</td>\n",
       "      <td>승인거래</td>\n",
       "      <td>소비자소득공제용</td>\n",
       "      <td>일반거래</td>\n",
       "      <td>000002922</td>\n",
       "    </tr>\n",
       "    <tr>\n",
       "      <th>4</th>\n",
       "      <td>사업자</td>\n",
       "      <td>2024-04-30 17:09:30</td>\n",
       "      <td>7636.0</td>\n",
       "      <td>764.0</td>\n",
       "      <td>0.0</td>\n",
       "      <td>8400.0</td>\n",
       "      <td>160668661.0</td>\n",
       "      <td>1234.0</td>\n",
       "      <td>승인거래</td>\n",
       "      <td>소비자소득공제용</td>\n",
       "      <td>일반거래</td>\n",
       "      <td>000002919</td>\n",
       "    </tr>\n",
       "    <tr>\n",
       "      <th>...</th>\n",
       "      <td>...</td>\n",
       "      <td>...</td>\n",
       "      <td>...</td>\n",
       "      <td>...</td>\n",
       "      <td>...</td>\n",
       "      <td>...</td>\n",
       "      <td>...</td>\n",
       "      <td>...</td>\n",
       "      <td>...</td>\n",
       "      <td>...</td>\n",
       "      <td>...</td>\n",
       "      <td>...</td>\n",
       "    </tr>\n",
       "    <tr>\n",
       "      <th>1518</th>\n",
       "      <td>NaN</td>\n",
       "      <td>2024-04-09 19:01:26</td>\n",
       "      <td>23273.0</td>\n",
       "      <td>2327.0</td>\n",
       "      <td>0.0</td>\n",
       "      <td>25600.0</td>\n",
       "      <td>75068369.0</td>\n",
       "      <td>NaN</td>\n",
       "      <td>일반</td>\n",
       "      <td>None</td>\n",
       "      <td>None</td>\n",
       "      <td>3000000570</td>\n",
       "    </tr>\n",
       "    <tr>\n",
       "      <th>1519</th>\n",
       "      <td>NaN</td>\n",
       "      <td>2024-04-01 09:29:46</td>\n",
       "      <td>20455.0</td>\n",
       "      <td>2045.0</td>\n",
       "      <td>0.0</td>\n",
       "      <td>22500.0</td>\n",
       "      <td>16703300.0</td>\n",
       "      <td>NaN</td>\n",
       "      <td>일반</td>\n",
       "      <td>None</td>\n",
       "      <td>None</td>\n",
       "      <td>000001546</td>\n",
       "    </tr>\n",
       "    <tr>\n",
       "      <th>1520</th>\n",
       "      <td>NaN</td>\n",
       "      <td>2024-04-04 14:57:02</td>\n",
       "      <td>-38182.0</td>\n",
       "      <td>-3818.0</td>\n",
       "      <td>0.0</td>\n",
       "      <td>NaN</td>\n",
       "      <td>479460.0</td>\n",
       "      <td>NaN</td>\n",
       "      <td>일반</td>\n",
       "      <td>None</td>\n",
       "      <td>None</td>\n",
       "      <td>3000000526</td>\n",
       "    </tr>\n",
       "    <tr>\n",
       "      <th>1521</th>\n",
       "      <td>NaN</td>\n",
       "      <td>2024-03-27 14:35:41</td>\n",
       "      <td>-3636.0</td>\n",
       "      <td>-364.0</td>\n",
       "      <td>-42000.0</td>\n",
       "      <td>NaN</td>\n",
       "      <td>59588609.0</td>\n",
       "      <td>NaN</td>\n",
       "      <td>일반</td>\n",
       "      <td>None</td>\n",
       "      <td>None</td>\n",
       "      <td>3000000442</td>\n",
       "    </tr>\n",
       "    <tr>\n",
       "      <th>1522</th>\n",
       "      <td>NaN</td>\n",
       "      <td>NaN</td>\n",
       "      <td>NaN</td>\n",
       "      <td>NaN</td>\n",
       "      <td>NaN</td>\n",
       "      <td>18666650.0</td>\n",
       "      <td>NaN</td>\n",
       "      <td>NaN</td>\n",
       "      <td>NaN</td>\n",
       "      <td>None</td>\n",
       "      <td>None</td>\n",
       "      <td>NaN</td>\n",
       "    </tr>\n",
       "  </tbody>\n",
       "</table>\n",
       "<p>1523 rows × 12 columns</p>\n",
       "</div>"
      ],
      "text/plain": [
       "     발행구분                 매출일시      공급가액      부가세      봉사료         총금액  \\\n",
       "0     사업자  2024-04-30 23:25:41   37555.0   3755.0   6390.0     47700.0   \n",
       "1     사업자  2024-04-30 20:31:59  146091.0  14609.0  75800.0    236500.0   \n",
       "2     사업자  2024-04-30 20:31:10   31182.0   3118.0  19600.0     53900.0   \n",
       "3     사업자  2024-04-30 18:33:44   19273.0   1927.0  16800.0     38000.0   \n",
       "4     사업자  2024-04-30 17:09:30    7636.0    764.0      0.0      8400.0   \n",
       "...   ...                  ...       ...      ...      ...         ...   \n",
       "1518  NaN  2024-04-09 19:01:26   23273.0   2327.0      0.0     25600.0   \n",
       "1519  NaN  2024-04-01 09:29:46   20455.0   2045.0      0.0     22500.0   \n",
       "1520  NaN  2024-04-04 14:57:02  -38182.0  -3818.0      0.0         NaN   \n",
       "1521  NaN  2024-03-27 14:35:41   -3636.0   -364.0 -42000.0         NaN   \n",
       "1522  NaN                  NaN       NaN      NaN      NaN  18666650.0   \n",
       "\n",
       "             승인번호  신분확인뒷4자리  거래구분      용도구분    비고        주문번호  \n",
       "0     161032234.0    1234.0  승인거래  소비자소득공제용  일반거래   000002933  \n",
       "1     160873755.0    1234.0  승인거래  소비자소득공제용  일반거래   000002932  \n",
       "2     160874109.0    1234.0  승인거래  소비자소득공제용  일반거래   000002931  \n",
       "3     160756462.0    1234.0  승인거래  소비자소득공제용  일반거래   000002922  \n",
       "4     160668661.0    1234.0  승인거래  소비자소득공제용  일반거래   000002919  \n",
       "...           ...       ...   ...       ...   ...         ...  \n",
       "1518   75068369.0       NaN    일반      None  None  3000000570  \n",
       "1519   16703300.0       NaN    일반      None  None   000001546  \n",
       "1520     479460.0       NaN    일반      None  None  3000000526  \n",
       "1521   59588609.0       NaN    일반      None  None  3000000442  \n",
       "1522          NaN       NaN   NaN      None  None         NaN  \n",
       "\n",
       "[1523 rows x 12 columns]"
      ]
     },
     "execution_count": 39,
     "metadata": {},
     "output_type": "execute_result"
    }
   ],
   "source": [
    "Ordernumber_merged"
   ]
  },
  {
   "cell_type": "markdown",
   "id": "4296622f",
   "metadata": {},
   "source": [
    "# 주문번호 붙이기 완성 이제 고객명 붙이기"
   ]
  },
  {
   "cell_type": "code",
   "execution_count": 40,
   "id": "37246ee5",
   "metadata": {},
   "outputs": [],
   "source": [
    "# 데이터 파일 로드\n",
    "dalat_sales = pd.read_excel('4월 달랏매출.xlsx')\n",
    "tax_approval_data = pd.read_excel('국세청승인자료_주문번호추가.xlsx')\n",
    "\n",
    "# 'Order No'와 '주문번호'를 기준으로 두 데이터 프레임을 합친다\n",
    "merged_data = pd.merge(tax_approval_data, dalat_sales[['Order No', '고객 이름','operator']], left_on='주문번호', right_on='Order No', how='left')\n",
    "\n",
    "# 중복된 행 제거\n",
    "final_data = merged_data.drop_duplicates()\n",
    "\n",
    "# 필요한 컬럼만 선택하여 최종 데이터 프레임 생성\n",
    "final_columns = ['발행구분', '매출일시', '공급가액', '부가세', '봉사료', '총금액', '승인번호', '신분확인뒷4자리', '거래구분', '용도구분', '비고', '주문번호', '고객 이름','operator']\n",
    "final_data = final_data[final_columns]\n",
    "\n",
    "# 최종 데이터를 Excel 파일로 저장\n",
    "final_data_path = 'final_merged_data.xlsx'\n",
    "final_data.to_excel(final_data_path, index=False)"
   ]
  },
  {
   "cell_type": "markdown",
   "id": "d072d968",
   "metadata": {},
   "source": [
    "이후에 나온 엑셀 데이터는 현금영수증 + 신용카드임. \n",
    "1. 신용카드에도 마이너스 금액을 총금액으로 옮겨주어야 함\n",
    "2. 여신 금액 가져와서 더 붙여주기"
   ]
  },
  {
   "cell_type": "markdown",
   "id": "02a1ce25",
   "metadata": {},
   "source": [
    "# 노가다해서 나온 결과물 groupby 해주기"
   ]
  },
  {
   "cell_type": "code",
   "execution_count": 163,
   "id": "34d14db1",
   "metadata": {},
   "outputs": [],
   "source": [
    "import openpyxl"
   ]
  },
  {
   "cell_type": "code",
   "execution_count": 170,
   "id": "4956fd62",
   "metadata": {},
   "outputs": [],
   "source": [
    "# 엑셀 파일 경로\n",
    "file_path = '달랏 3월 원장.xlsx'\n",
    "\n",
    "# 첫 번째 시트의 데이터를 읽어옴\n",
    "df = pd.read_excel(file_path, sheet_name=0)\n",
    "\n",
    "# '고객 이름'과 '비고'를 기준으로 그룹화하고, 해당 그룹별로 '공급가액', '부가세', '봉사료', '총금액'의 합계 계산\n",
    "grouped_by_customer_remark = df.groupby(['고객 이름', '비고'])[['공급가액', '부가세', '봉사료', '총금액']].sum().reset_index()"
   ]
  },
  {
   "cell_type": "code",
   "execution_count": 171,
   "id": "2f3250b4",
   "metadata": {},
   "outputs": [],
   "source": [
    "# 최종 데이터를 Excel 파일로 저장\n",
    "grouped_path = '고객별 데이터.xlsx'\n",
    "grouped_by_customer_remark.to_excel(grouped_path, index=False)"
   ]
  },
  {
   "cell_type": "code",
   "execution_count": null,
   "id": "c8d030fa",
   "metadata": {},
   "outputs": [],
   "source": []
  },
  {
   "cell_type": "code",
   "execution_count": null,
   "id": "c30baa9b",
   "metadata": {},
   "outputs": [],
   "source": []
  }
 ],
 "metadata": {
  "kernelspec": {
   "display_name": "Python 3 (ipykernel)",
   "language": "python",
   "name": "python3"
  },
  "language_info": {
   "codemirror_mode": {
    "name": "ipython",
    "version": 3
   },
   "file_extension": ".py",
   "mimetype": "text/x-python",
   "name": "python",
   "nbconvert_exporter": "python",
   "pygments_lexer": "ipython3",
   "version": "3.11.4"
  }
 },
 "nbformat": 4,
 "nbformat_minor": 5
}
