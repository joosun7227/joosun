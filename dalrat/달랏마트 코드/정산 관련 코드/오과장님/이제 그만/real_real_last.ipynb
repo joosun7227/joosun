{
 "cells": [
  {
   "cell_type": "code",
   "execution_count": 11,
   "id": "192fba4b",
   "metadata": {},
   "outputs": [],
   "source": [
    "import pandas as pd"
   ]
  },
  {
   "cell_type": "code",
   "execution_count": 12,
   "id": "bf4f957a",
   "metadata": {},
   "outputs": [],
   "source": [
    "data = pd.read_excel('면세 계산파트.xlsx')"
   ]
  },
  {
   "cell_type": "code",
   "execution_count": 13,
   "id": "96377094",
   "metadata": {},
   "outputs": [],
   "source": [
    "# 조건에 따라 실공급가액 및 면세 컬럼 계산 및 추가\n",
    "data['실공급가액'] = data.apply(lambda x: x['세액']*10 if x['세액'] != 0 else 0, axis=1)\n",
    "data['면세'] = data.apply(lambda x: x['공급가액'] - x['실공급가액'] if x['세액'] != 0 else x['공급가액'], axis=1)"
   ]
  },
  {
   "cell_type": "code",
   "execution_count": 14,
   "id": "5db09735",
   "metadata": {},
   "outputs": [],
   "source": [
    "# 면세가 음수인 경우, 해당 금액을 실공급가액에 더하고 면세를 0으로 업데이트\n",
    "data['실공급가액'] = data.apply(lambda x: x['실공급가액'] + x['면세'] if x['면세'] < 0 else x['실공급가액'], axis=1)\n",
    "data['면세'] = data.apply(lambda x: 0 if x['면세'] < 0 else x['면세'], axis=1)"
   ]
  },
  {
   "cell_type": "code",
   "execution_count": 15,
   "id": "050dc4ec",
   "metadata": {},
   "outputs": [],
   "source": [
    "data['실공급가액'] += data['면세'] % 10\n",
    "data['면세'] -= data['면세'] % 10"
   ]
  },
  {
   "cell_type": "code",
   "execution_count": 17,
   "id": "1b975c49",
   "metadata": {},
   "outputs": [],
   "source": [
    "data['공급가액'] = data['실공급가액']"
   ]
  },
  {
   "cell_type": "code",
   "execution_count": 18,
   "id": "3a095618",
   "metadata": {},
   "outputs": [],
   "source": [
    "data.drop('실공급가액', axis=1, inplace=True)"
   ]
  },
  {
   "cell_type": "code",
   "execution_count": 19,
   "id": "ba186903",
   "metadata": {},
   "outputs": [],
   "source": [
    "data.to_excel('최종_real.xlsx', index=False)"
   ]
  },
  {
   "cell_type": "code",
   "execution_count": null,
   "id": "24de6847",
   "metadata": {},
   "outputs": [],
   "source": []
  }
 ],
 "metadata": {
  "kernelspec": {
   "display_name": "Python 3 (ipykernel)",
   "language": "python",
   "name": "python3"
  },
  "language_info": {
   "codemirror_mode": {
    "name": "ipython",
    "version": 3
   },
   "file_extension": ".py",
   "mimetype": "text/x-python",
   "name": "python",
   "nbconvert_exporter": "python",
   "pygments_lexer": "ipython3",
   "version": "3.11.4"
  }
 },
 "nbformat": 4,
 "nbformat_minor": 5
}
