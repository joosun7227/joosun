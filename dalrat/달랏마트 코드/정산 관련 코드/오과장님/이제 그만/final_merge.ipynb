{
 "cells": [
  {
   "cell_type": "code",
   "execution_count": 30,
   "id": "73dca6f2",
   "metadata": {},
   "outputs": [],
   "source": [
    "import pandas as pd"
   ]
  },
  {
   "cell_type": "code",
   "execution_count": 31,
   "id": "315d36e3",
   "metadata": {},
   "outputs": [],
   "source": [
    "data = pd.read_excel('면세 계산파트.xlsx')"
   ]
  },
  {
   "cell_type": "code",
   "execution_count": 33,
   "id": "f84197b7",
   "metadata": {},
   "outputs": [],
   "source": [
    "# 실공급가액 컬럼을 만들고 조건에 따라 값을 설정합니다.\n",
    "data['실공급가액'] = data.apply(lambda x: x['공급가액'] if x['세액'] == 0 else x['세액'] * 10, axis=1)\n",
    "\n",
    "# 면세액을 업데이트합니다. 세액이 0인 경우 면세액도 0이 됩니다.\n",
    "data['면세'] = data.apply(lambda x: 0 if x['세액'] == x['공급가액'], axis=1)"
   ]
  },
  {
   "cell_type": "code",
   "execution_count": 34,
   "id": "40efb493",
   "metadata": {},
   "outputs": [],
   "source": [
    "data.to_excel('확인용.xlsx', index=False)"
   ]
  },
  {
   "cell_type": "code",
   "execution_count": 35,
   "id": "f0d377d1",
   "metadata": {},
   "outputs": [],
   "source": [
    "# 면세액 조건에 따른 업데이트\n",
    "for index, row in data.iterrows():\n",
    "    if row['면세'] < 0:\n",
    "        data.at[index, '실공급가액'] -= row['면세']  # 실공급가액에서 빼줍니다.\n",
    "        data.at[index, '면세'] += abs(row['면세'])  # 면세액에 더합니다.\n",
    "    elif row['면세'] <= 10:\n",
    "        data.at[index, '실공급가액'] += row['면세']  # 실공급가액에 더합니다.\n",
    "        data.at[index, '면세'] -= row['면세']  # 면세액에서 빼줍니다.\n",
    "    elif row['면세'] > 10:\n",
    "        ones_digit = row['면세'] % 10  # 1의 자리\n",
    "        data.at[index, '실공급가액'] += ones_digit  # 실공급가액에 더합니다.\n",
    "        data.at[index, '면세'] -= ones_digit  # 면세액에서 빼줍니다.\n",
    "\n",
    "# 실공급가액 업데이트 후 실공급가액 컬럼 삭제\n",
    "data['공급가액'] = data['실공급가액']\n",
    "data.drop('실공급가액', axis=1, inplace=True)"
   ]
  },
  {
   "cell_type": "code",
   "execution_count": 36,
   "id": "2bd21c34",
   "metadata": {},
   "outputs": [],
   "source": []
  },
  {
   "cell_type": "code",
   "execution_count": 37,
   "id": "b6c229a6",
   "metadata": {},
   "outputs": [],
   "source": [
    "data.to_excel('최종.xlsx', index=False)"
   ]
  },
  {
   "cell_type": "code",
   "execution_count": null,
   "id": "63d1f160",
   "metadata": {},
   "outputs": [],
   "source": []
  }
 ],
 "metadata": {
  "kernelspec": {
   "display_name": "Python 3 (ipykernel)",
   "language": "python",
   "name": "python3"
  },
  "language_info": {
   "codemirror_mode": {
    "name": "ipython",
    "version": 3
   },
   "file_extension": ".py",
   "mimetype": "text/x-python",
   "name": "python",
   "nbconvert_exporter": "python",
   "pygments_lexer": "ipython3",
   "version": "3.11.4"
  }
 },
 "nbformat": 4,
 "nbformat_minor": 5
}
